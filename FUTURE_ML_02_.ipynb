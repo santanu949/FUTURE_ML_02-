{
  "nbformat": 4,
  "nbformat_minor": 0,
  "metadata": {
    "colab": {
      "provenance": []
    },
    "kernelspec": {
      "name": "python3",
      "display_name": "Python 3"
    },
    "language_info": {
      "name": "python"
    }
  },
  "cells": [
    {
      "cell_type": "code",
      "execution_count": 1,
      "metadata": {
        "colab": {
          "base_uri": "https://localhost:8080/",
          "height": 73
        },
        "id": "Nk6y71rG4vhC",
        "outputId": "26530721-5dfa-4c30-f13f-83716cb7ea14"
      },
      "outputs": [
        {
          "output_type": "display_data",
          "data": {
            "text/plain": [
              "<IPython.core.display.HTML object>"
            ],
            "text/html": [
              "\n",
              "     <input type=\"file\" id=\"files-83fbc872-7824-49c8-a8b2-83efdb5828c3\" name=\"files[]\" multiple disabled\n",
              "        style=\"border:none\" />\n",
              "     <output id=\"result-83fbc872-7824-49c8-a8b2-83efdb5828c3\">\n",
              "      Upload widget is only available when the cell has been executed in the\n",
              "      current browser session. Please rerun this cell to enable.\n",
              "      </output>\n",
              "      <script>// Copyright 2017 Google LLC\n",
              "//\n",
              "// Licensed under the Apache License, Version 2.0 (the \"License\");\n",
              "// you may not use this file except in compliance with the License.\n",
              "// You may obtain a copy of the License at\n",
              "//\n",
              "//      http://www.apache.org/licenses/LICENSE-2.0\n",
              "//\n",
              "// Unless required by applicable law or agreed to in writing, software\n",
              "// distributed under the License is distributed on an \"AS IS\" BASIS,\n",
              "// WITHOUT WARRANTIES OR CONDITIONS OF ANY KIND, either express or implied.\n",
              "// See the License for the specific language governing permissions and\n",
              "// limitations under the License.\n",
              "\n",
              "/**\n",
              " * @fileoverview Helpers for google.colab Python module.\n",
              " */\n",
              "(function(scope) {\n",
              "function span(text, styleAttributes = {}) {\n",
              "  const element = document.createElement('span');\n",
              "  element.textContent = text;\n",
              "  for (const key of Object.keys(styleAttributes)) {\n",
              "    element.style[key] = styleAttributes[key];\n",
              "  }\n",
              "  return element;\n",
              "}\n",
              "\n",
              "// Max number of bytes which will be uploaded at a time.\n",
              "const MAX_PAYLOAD_SIZE = 100 * 1024;\n",
              "\n",
              "function _uploadFiles(inputId, outputId) {\n",
              "  const steps = uploadFilesStep(inputId, outputId);\n",
              "  const outputElement = document.getElementById(outputId);\n",
              "  // Cache steps on the outputElement to make it available for the next call\n",
              "  // to uploadFilesContinue from Python.\n",
              "  outputElement.steps = steps;\n",
              "\n",
              "  return _uploadFilesContinue(outputId);\n",
              "}\n",
              "\n",
              "// This is roughly an async generator (not supported in the browser yet),\n",
              "// where there are multiple asynchronous steps and the Python side is going\n",
              "// to poll for completion of each step.\n",
              "// This uses a Promise to block the python side on completion of each step,\n",
              "// then passes the result of the previous step as the input to the next step.\n",
              "function _uploadFilesContinue(outputId) {\n",
              "  const outputElement = document.getElementById(outputId);\n",
              "  const steps = outputElement.steps;\n",
              "\n",
              "  const next = steps.next(outputElement.lastPromiseValue);\n",
              "  return Promise.resolve(next.value.promise).then((value) => {\n",
              "    // Cache the last promise value to make it available to the next\n",
              "    // step of the generator.\n",
              "    outputElement.lastPromiseValue = value;\n",
              "    return next.value.response;\n",
              "  });\n",
              "}\n",
              "\n",
              "/**\n",
              " * Generator function which is called between each async step of the upload\n",
              " * process.\n",
              " * @param {string} inputId Element ID of the input file picker element.\n",
              " * @param {string} outputId Element ID of the output display.\n",
              " * @return {!Iterable<!Object>} Iterable of next steps.\n",
              " */\n",
              "function* uploadFilesStep(inputId, outputId) {\n",
              "  const inputElement = document.getElementById(inputId);\n",
              "  inputElement.disabled = false;\n",
              "\n",
              "  const outputElement = document.getElementById(outputId);\n",
              "  outputElement.innerHTML = '';\n",
              "\n",
              "  const pickedPromise = new Promise((resolve) => {\n",
              "    inputElement.addEventListener('change', (e) => {\n",
              "      resolve(e.target.files);\n",
              "    });\n",
              "  });\n",
              "\n",
              "  const cancel = document.createElement('button');\n",
              "  inputElement.parentElement.appendChild(cancel);\n",
              "  cancel.textContent = 'Cancel upload';\n",
              "  const cancelPromise = new Promise((resolve) => {\n",
              "    cancel.onclick = () => {\n",
              "      resolve(null);\n",
              "    };\n",
              "  });\n",
              "\n",
              "  // Wait for the user to pick the files.\n",
              "  const files = yield {\n",
              "    promise: Promise.race([pickedPromise, cancelPromise]),\n",
              "    response: {\n",
              "      action: 'starting',\n",
              "    }\n",
              "  };\n",
              "\n",
              "  cancel.remove();\n",
              "\n",
              "  // Disable the input element since further picks are not allowed.\n",
              "  inputElement.disabled = true;\n",
              "\n",
              "  if (!files) {\n",
              "    return {\n",
              "      response: {\n",
              "        action: 'complete',\n",
              "      }\n",
              "    };\n",
              "  }\n",
              "\n",
              "  for (const file of files) {\n",
              "    const li = document.createElement('li');\n",
              "    li.append(span(file.name, {fontWeight: 'bold'}));\n",
              "    li.append(span(\n",
              "        `(${file.type || 'n/a'}) - ${file.size} bytes, ` +\n",
              "        `last modified: ${\n",
              "            file.lastModifiedDate ? file.lastModifiedDate.toLocaleDateString() :\n",
              "                                    'n/a'} - `));\n",
              "    const percent = span('0% done');\n",
              "    li.appendChild(percent);\n",
              "\n",
              "    outputElement.appendChild(li);\n",
              "\n",
              "    const fileDataPromise = new Promise((resolve) => {\n",
              "      const reader = new FileReader();\n",
              "      reader.onload = (e) => {\n",
              "        resolve(e.target.result);\n",
              "      };\n",
              "      reader.readAsArrayBuffer(file);\n",
              "    });\n",
              "    // Wait for the data to be ready.\n",
              "    let fileData = yield {\n",
              "      promise: fileDataPromise,\n",
              "      response: {\n",
              "        action: 'continue',\n",
              "      }\n",
              "    };\n",
              "\n",
              "    // Use a chunked sending to avoid message size limits. See b/62115660.\n",
              "    let position = 0;\n",
              "    do {\n",
              "      const length = Math.min(fileData.byteLength - position, MAX_PAYLOAD_SIZE);\n",
              "      const chunk = new Uint8Array(fileData, position, length);\n",
              "      position += length;\n",
              "\n",
              "      const base64 = btoa(String.fromCharCode.apply(null, chunk));\n",
              "      yield {\n",
              "        response: {\n",
              "          action: 'append',\n",
              "          file: file.name,\n",
              "          data: base64,\n",
              "        },\n",
              "      };\n",
              "\n",
              "      let percentDone = fileData.byteLength === 0 ?\n",
              "          100 :\n",
              "          Math.round((position / fileData.byteLength) * 100);\n",
              "      percent.textContent = `${percentDone}% done`;\n",
              "\n",
              "    } while (position < fileData.byteLength);\n",
              "  }\n",
              "\n",
              "  // All done.\n",
              "  yield {\n",
              "    response: {\n",
              "      action: 'complete',\n",
              "    }\n",
              "  };\n",
              "}\n",
              "\n",
              "scope.google = scope.google || {};\n",
              "scope.google.colab = scope.google.colab || {};\n",
              "scope.google.colab._files = {\n",
              "  _uploadFiles,\n",
              "  _uploadFilesContinue,\n",
              "};\n",
              "})(self);\n",
              "</script> "
            ]
          },
          "metadata": {}
        },
        {
          "output_type": "stream",
          "name": "stdout",
          "text": [
            "Saving telecom_churn.csv to telecom_churn.csv\n"
          ]
        }
      ],
      "source": [
        "from google.colab import files\n",
        "uploaded = files.upload()\n"
      ]
    },
    {
      "cell_type": "code",
      "source": [
        "import pandas as pd\n",
        "\n",
        "file_path = 'telecom_churn.csv'\n",
        "\n",
        "data = pd.read_csv(file_path)\n",
        "\n",
        "print(data.head())\n",
        "print(\"Dataset shape:\", data.shape)\n",
        "print(data.info())\n"
      ],
      "metadata": {
        "colab": {
          "base_uri": "https://localhost:8080/"
        },
        "id": "LNjlOdB46F3E",
        "outputId": "bf31d877-65a5-4470-e8d0-1694ca31beb6"
      },
      "execution_count": 2,
      "outputs": [
        {
          "output_type": "stream",
          "name": "stdout",
          "text": [
            "   customer_id telecom_partner gender  age              state     city  \\\n",
            "0            1    Reliance Jio      F   25          Karnataka  Kolkata   \n",
            "1            2    Reliance Jio      F   55            Mizoram   Mumbai   \n",
            "2            3        Vodafone      F   57  Arunachal Pradesh    Delhi   \n",
            "3            4            BSNL      M   46         Tamil Nadu  Kolkata   \n",
            "4            5            BSNL      F   26            Tripura    Delhi   \n",
            "\n",
            "   pincode date_of_registration  num_dependents  estimated_salary  calls_made  \\\n",
            "0   755597           2020-01-01               4            124962          44   \n",
            "1   125926           2020-01-01               2            130556          62   \n",
            "2   423976           2020-01-01               0            148828          49   \n",
            "3   522841           2020-01-01               1             38722          80   \n",
            "4   740247           2020-01-01               2             55098          78   \n",
            "\n",
            "   sms_sent  data_used  churn  \n",
            "0        45       -361      0  \n",
            "1        39       5973      0  \n",
            "2        24        193      1  \n",
            "3        25       9377      1  \n",
            "4        15       1393      0  \n",
            "Dataset shape: (243553, 14)\n",
            "<class 'pandas.core.frame.DataFrame'>\n",
            "RangeIndex: 243553 entries, 0 to 243552\n",
            "Data columns (total 14 columns):\n",
            " #   Column                Non-Null Count   Dtype \n",
            "---  ------                --------------   ----- \n",
            " 0   customer_id           243553 non-null  int64 \n",
            " 1   telecom_partner       243553 non-null  object\n",
            " 2   gender                243553 non-null  object\n",
            " 3   age                   243553 non-null  int64 \n",
            " 4   state                 243553 non-null  object\n",
            " 5   city                  243553 non-null  object\n",
            " 6   pincode               243553 non-null  int64 \n",
            " 7   date_of_registration  243553 non-null  object\n",
            " 8   num_dependents        243553 non-null  int64 \n",
            " 9   estimated_salary      243553 non-null  int64 \n",
            " 10  calls_made            243553 non-null  int64 \n",
            " 11  sms_sent              243553 non-null  int64 \n",
            " 12  data_used             243553 non-null  int64 \n",
            " 13  churn                 243553 non-null  int64 \n",
            "dtypes: int64(9), object(5)\n",
            "memory usage: 26.0+ MB\n",
            "None\n"
          ]
        }
      ]
    },
    {
      "cell_type": "code",
      "source": [
        "import matplotlib.pyplot as plt\n",
        "\n",
        "\n",
        "churn_counts = data['churn'].value_counts()\n",
        "print(churn_counts)\n",
        "\n",
        "\n",
        "plt.figure(figsize=(6,4))\n",
        "churn_counts.plot(kind='bar')\n",
        "plt.title('Churn Distribution (0 = No, 1 = Yes)')\n",
        "plt.xlabel('Churn')\n",
        "plt.ylabel('Number of Customers')\n",
        "plt.show()\n"
      ],
      "metadata": {
        "colab": {
          "base_uri": "https://localhost:8080/",
          "height": 474
        },
        "id": "QjUgzVTm6V7I",
        "outputId": "8af215aa-6b23-4dc8-8afb-5fd3fcad6118"
      },
      "execution_count": 3,
      "outputs": [
        {
          "output_type": "stream",
          "name": "stdout",
          "text": [
            "churn\n",
            "0    194726\n",
            "1     48827\n",
            "Name: count, dtype: int64\n"
          ]
        },
        {
          "output_type": "display_data",
          "data": {
            "text/plain": [
              "<Figure size 600x400 with 1 Axes>"
            ],
            "image/png": "[encoded data removed]"
          },
          "metadata": {}
        }
      ]
    },
    {
      "cell_type": "code",
      "source": [
        "\n",
        "print(\"Duplicate rows:\", data.duplicated().sum())\n",
        "\n",
        "\n",
        "print(\"Missing values per column:\\n\", data.isnull().sum())\n"
      ],
      "metadata": {
        "colab": {
          "base_uri": "https://localhost:8080/"
        },
        "id": "G9IMMkbg6h5B",
        "outputId": "4f5708aa-77e4-4fee-d089-fec0a2ec1ae4"
      },
      "execution_count": 4,
      "outputs": [
        {
          "output_type": "stream",
          "name": "stdout",
          "text": [
            "Duplicate rows: 0\n",
            "Missing values per column:\n",
            " customer_id             0\n",
            "telecom_partner         0\n",
            "gender                  0\n",
            "age                     0\n",
            "state                   0\n",
            "city                    0\n",
            "pincode                 0\n",
            "date_of_registration    0\n",
            "num_dependents          0\n",
            "estimated_salary        0\n",
            "calls_made              0\n",
            "sms_sent                0\n",
            "data_used               0\n",
            "churn                   0\n",
            "dtype: int64\n"
          ]
        }
      ]
    },
    {
      "cell_type": "code",
      "source": [
        "\n",
        "data['gender'] = data['gender'].map({'M': 0, 'F': 1})\n",
        "\n",
        "\n",
        "data = pd.get_dummies(data, columns=['telecom_partner', 'state', 'city'], drop_first=True)\n",
        "\n",
        "print(\"Columns after encoding:\", data.columns)\n",
        "print(data.head(3))\n"
      ],
      "metadata": {
        "colab": {
          "base_uri": "https://localhost:8080/"
        },
        "id": "PAPxIebL6qkI",
        "outputId": "a9a8de33-a108-494a-fd3d-12579219790f"
      },
      "execution_count": 5,
      "outputs": [
        {
          "output_type": "stream",
          "name": "stdout",
          "text": [
            "Columns after encoding: Index(['customer_id', 'gender', 'age', 'pincode', 'date_of_registration',\n",
            "       'num_dependents', 'estimated_salary', 'calls_made', 'sms_sent',\n",
            "       'data_used', 'churn', 'telecom_partner_BSNL',\n",
            "       'telecom_partner_Reliance Jio', 'telecom_partner_Vodafone',\n",
            "       'state_Arunachal Pradesh', 'state_Assam', 'state_Bihar',\n",
            "       'state_Chhattisgarh', 'state_Goa', 'state_Gujarat', 'state_Haryana',\n",
            "       'state_Himachal Pradesh', 'state_Jharkhand', 'state_Karnataka',\n",
            "       'state_Kerala', 'state_Madhya Pradesh', 'state_Maharashtra',\n",
            "       'state_Manipur', 'state_Meghalaya', 'state_Mizoram', 'state_Nagaland',\n",
            "       'state_Odisha', 'state_Punjab', 'state_Rajasthan', 'state_Sikkim',\n",
            "       'state_Tamil Nadu', 'state_Telangana', 'state_Tripura',\n",
            "       'state_Uttar Pradesh', 'state_Uttarakhand', 'state_West Bengal',\n",
            "       'city_Chennai', 'city_Delhi', 'city_Hyderabad', 'city_Kolkata',\n",
            "       'city_Mumbai'],\n",
            "      dtype='object')\n",
            "   customer_id  gender  age  pincode date_of_registration  num_dependents  \\\n",
            "0            1       1   25   755597           2020-01-01               4   \n",
            "1            2       1   55   125926           2020-01-01               2   \n",
            "2            3       1   57   423976           2020-01-01               0   \n",
            "\n",
            "   estimated_salary  calls_made  sms_sent  data_used  ...  state_Telangana  \\\n",
            "0            124962          44        45       -361  ...            False   \n",
            "1            130556          62        39       5973  ...            False   \n",
            "2            148828          49        24        193  ...            False   \n",
            "\n",
            "   state_Tripura  state_Uttar Pradesh  state_Uttarakhand  state_West Bengal  \\\n",
            "0          False                False              False              False   \n",
            "1          False                False              False              False   \n",
            "2          False                False              False              False   \n",
            "\n",
            "   city_Chennai  city_Delhi  city_Hyderabad  city_Kolkata  city_Mumbai  \n",
            "0         False       False           False          True        False  \n",
            "1         False       False           False         False         True  \n",
            "2         False        True           False         False        False  \n",
            "\n",
            "[3 rows x 46 columns]\n"
          ]
        }
      ]
    },
    {
      "cell_type": "code",
      "source": [
        "from sklearn.model_selection import train_test_split\n",
        "\n",
        "X = data.drop(['customer_id', 'date_of_registration', 'churn'], axis=1)\n",
        "y = data['churn']\n",
        "\n",
        "X_train, X_test, y_train, y_test = train_test_split(X, y, test_size=0.2, random_state=42)\n",
        "\n",
        "print(\"Training set shape:\", X_train.shape)\n",
        "print(\"Testing set shape:\", X_test.shape)\n"
      ],
      "metadata": {
        "colab": {
          "base_uri": "https://localhost:8080/"
        },
        "id": "lZEIkY_q62cn",
        "outputId": "38b8fb97-5dfb-4f37-9350-bfb0dc574c8c"
      },
      "execution_count": 6,
      "outputs": [
        {
          "output_type": "stream",
          "name": "stdout",
          "text": [
            "Training set shape: (194842, 43)\n",
            "Testing set shape: (48711, 43)\n"
          ]
        }
      ]
    },
    {
      "cell_type": "code",
      "source": [
        "from sklearn.linear_model import LogisticRegression\n",
        "from sklearn.metrics import classification_report, confusion_matrix, roc_auc_score\n",
        "\n",
        "model = LogisticRegression(max_iter=1000)\n",
        "model.fit(X_train, y_train)\n",
        "\n",
        "y_pred = model.predict(X_test)\n",
        "y_proba = model.predict_proba(X_test)[:,1]\n",
        "\n",
        "print(\"Confusion Matrix:\\n\", confusion_matrix(y_test, y_pred))\n",
        "print(\"\\nClassification Report:\\n\", classification_report(y_test, y_pred))\n",
        "print(\"\\nROC AUC Score:\", roc_auc_score(y_test, y_proba))\n"
      ],
      "metadata": {
        "colab": {
          "base_uri": "https://localhost:8080/"
        },
        "id": "ADgaTRpV7Bwn",
        "outputId": "f919a751-624d-4c06-dc1e-8d2f9e2ecbac"
      },
      "execution_count": 7,
      "outputs": [
        {
          "output_type": "stream",
          "name": "stdout",
          "text": [
            "Confusion Matrix:\n",
            " [[38928     0]\n",
            " [ 9783     0]]\n",
            "\n",
            "Classification Report:\n",
            "               precision    recall  f1-score   support\n",
            "\n",
            "           0       0.80      1.00      0.89     38928\n",
            "           1       0.00      0.00      0.00      9783\n",
            "\n",
            "    accuracy                           0.80     48711\n",
            "   macro avg       0.40      0.50      0.44     48711\n",
            "weighted avg       0.64      0.80      0.71     48711\n",
            "\n",
            "\n",
            "ROC AUC Score: 0.5017038850117\n"
          ]
        },
        {
          "output_type": "stream",
          "name": "stderr",
          "text": [
            "/usr/local/lib/python3.12/dist-packages/sklearn/metrics/_classification.py:1565: UndefinedMetricWarning: Precision is ill-defined and being set to 0.0 in labels with no predicted samples. Use `zero_division` parameter to control this behavior.\n",
            "  _warn_prf(average, modifier, f\"{metric.capitalize()} is\", len(result))\n",
            "/usr/local/lib/python3.12/dist-packages/sklearn/metrics/_classification.py:1565: UndefinedMetricWarning: Precision is ill-defined and being set to 0.0 in labels with no predicted samples. Use `zero_division` parameter to control this behavior.\n",
            "  _warn_prf(average, modifier, f\"{metric.capitalize()} is\", len(result))\n",
            "/usr/local/lib/python3.12/dist-packages/sklearn/metrics/_classification.py:1565: UndefinedMetricWarning: Precision is ill-defined and being set to 0.0 in labels with no predicted samples. Use `zero_division` parameter to control this behavior.\n",
            "  _warn_prf(average, modifier, f\"{metric.capitalize()} is\", len(result))\n"
          ]
        }
      ]
    },
    {
      "cell_type": "code",
      "source": [
        "!pip install imbalanced-learn\n"
      ],
      "metadata": {
        "colab": {
          "base_uri": "https://localhost:8080/"
        },
        "id": "8KynaUEx7XH7",
        "outputId": "3f7ea888-b1ae-4b72-e1d9-e01bee637034"
      },
      "execution_count": 8,
      "outputs": [
        {
          "output_type": "stream",
          "name": "stdout",
          "text": [
            "Requirement already satisfied: imbalanced-learn in /usr/local/lib/python3.12/dist-packages (0.14.0)\n",
            "Requirement already satisfied: numpy<3,>=1.25.2 in /usr/local/lib/python3.12/dist-packages (from imbalanced-learn) (2.0.2)\n",
            "Requirement already satisfied: scipy<2,>=1.11.4 in /usr/local/lib/python3.12/dist-packages (from imbalanced-learn) (1.16.1)\n",
            "Requirement already satisfied: scikit-learn<2,>=1.4.2 in /usr/local/lib/python3.12/dist-packages (from imbalanced-learn) (1.6.1)\n",
            "Requirement already satisfied: joblib<2,>=1.2.0 in /usr/local/lib/python3.12/dist-packages (from imbalanced-learn) (1.5.1)\n",
            "Requirement already satisfied: threadpoolctl<4,>=2.0.0 in /usr/local/lib/python3.12/dist-packages (from imbalanced-learn) (3.6.0)\n"
          ]
        }
      ]
    },
    {
      "cell_type": "code",
      "source": [
        "from imblearn.over_sampling import SMOTE\n",
        "\n",
        "sm = SMOTE(random_state=42)\n",
        "X_train_res, y_train_res = sm.fit_resample(X_train, y_train)\n",
        "\n",
        "print(\"After SMOTE, counts of label '1': {}\".format(sum(y_train_res==1)))\n",
        "print(\"After SMOTE, counts of label '0': {}\".format(sum(y_train_res==0)))\n"
      ],
      "metadata": {
        "colab": {
          "base_uri": "https://localhost:8080/"
        },
        "id": "XssIUmMJ7d2J",
        "outputId": "0aa18c4d-6855-4031-e2e8-6e543961dc96"
      },
      "execution_count": 9,
      "outputs": [
        {
          "output_type": "stream",
          "name": "stdout",
          "text": [
            "After SMOTE, counts of label '1': 155798\n",
            "After SMOTE, counts of label '0': 155798\n"
          ]
        }
      ]
    },
    {
      "cell_type": "code",
      "source": [
        "model = LogisticRegression(max_iter=1000)\n",
        "model.fit(X_train_res, y_train_res)\n",
        "\n",
        "y_pred = model.predict(X_test)\n",
        "y_proba = model.predict_proba(X_test)[:,1]\n",
        "\n",
        "\n",
        "from sklearn.metrics import classification_report, confusion_matrix, roc_auc_score\n",
        "\n",
        "print(\"Confusion Matrix:\\n\", confusion_matrix(y_test, y_pred))\n",
        "print(\"\\nClassification Report:\\n\", classification_report(y_test, y_pred))\n",
        "print(\"\\nROC AUC Score:\", roc_auc_score(y_test, y_proba))\n"
      ],
      "metadata": {
        "colab": {
          "base_uri": "https://localhost:8080/"
        },
        "id": "HV8qo0TP72ZJ",
        "outputId": "6301c4b7-05af-4bf0-ac39-16be386859fe"
      },
      "execution_count": 10,
      "outputs": [
        {
          "output_type": "stream",
          "name": "stdout",
          "text": [
            "Confusion Matrix:\n",
            " [[30424  8504]\n",
            " [ 7646  2137]]\n",
            "\n",
            "Classification Report:\n",
            "               precision    recall  f1-score   support\n",
            "\n",
            "           0       0.80      0.78      0.79     38928\n",
            "           1       0.20      0.22      0.21      9783\n",
            "\n",
            "    accuracy                           0.67     48711\n",
            "   macro avg       0.50      0.50      0.50     48711\n",
            "weighted avg       0.68      0.67      0.67     48711\n",
            "\n",
            "\n",
            "ROC AUC Score: 0.49843299139203995\n"
          ]
        },
        {
          "output_type": "stream",
          "name": "stderr",
          "text": [
            "/usr/local/lib/python3.12/dist-packages/sklearn/linear_model/_logistic.py:465: ConvergenceWarning: lbfgs failed to converge (status=1):\n",
            "STOP: TOTAL NO. OF ITERATIONS REACHED LIMIT.\n",
            "\n",
            "Increase the number of iterations (max_iter) or scale the data as shown in:\n",
            "    https://scikit-learn.org/stable/modules/preprocessing.html\n",
            "Please also refer to the documentation for alternative solver options:\n",
            "    https://scikit-learn.org/stable/modules/linear_model.html#logistic-regression\n",
            "  n_iter_i = _check_optimize_result(\n"
          ]
        }
      ]
    },
    {
      "cell_type": "code",
      "source": [
        "from sklearn.ensemble import RandomForestClassifier\n",
        "\n",
        "rf = RandomForestClassifier(n_estimators=100, random_state=42)\n",
        "rf.fit(X_train_res, y_train_res)\n",
        "\n",
        "\n",
        "y_pred_rf = rf.predict(X_test)\n",
        "y_proba_rf = rf.predict_proba(X_test)[:,1]\n",
        "\n",
        "\n",
        "print(\"Confusion Matrix:\\n\", confusion_matrix(y_test, y_pred_rf))\n",
        "print(\"\\nClassification Report:\\n\", classification_report(y_test, y_pred_rf))\n",
        "print(\"\\nROC AUC Score:\", roc_auc_score(y_test, y_proba_rf))\n"
      ],
      "metadata": {
        "colab": {
          "base_uri": "https://localhost:8080/"
        },
        "id": "9kdOw_xu8gTn",
        "outputId": "76effba3-0ccb-4c29-da7f-331631c9d8fd"
      },
      "execution_count": 11,
      "outputs": [
        {
          "output_type": "stream",
          "name": "stdout",
          "text": [
            "Confusion Matrix:\n",
            " [[38136   792]\n",
            " [ 9579   204]]\n",
            "\n",
            "Classification Report:\n",
            "               precision    recall  f1-score   support\n",
            "\n",
            "           0       0.80      0.98      0.88     38928\n",
            "           1       0.20      0.02      0.04      9783\n",
            "\n",
            "    accuracy                           0.79     48711\n",
            "   macro avg       0.50      0.50      0.46     48711\n",
            "weighted avg       0.68      0.79      0.71     48711\n",
            "\n",
            "\n",
            "ROC AUC Score: 0.5005111129870009\n"
          ]
        }
      ]
    }
  ]
}